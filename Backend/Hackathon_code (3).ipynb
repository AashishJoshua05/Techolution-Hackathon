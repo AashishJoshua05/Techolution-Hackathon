{
  "nbformat": 4,
  "nbformat_minor": 0,
  "metadata": {
    "colab": {
      "provenance": []
    },
    "kernelspec": {
      "name": "python3",
      "display_name": "Python 3"
    },
    "language_info": {
      "name": "python"
    }
  },
  "cells": [
    {
      "cell_type": "code",
      "source": [
        "!pip install python_speech_features"
      ],
      "metadata": {
        "id": "l5c0UZrIh3pH"
      },
      "execution_count": null,
      "outputs": []
    },
    {
      "cell_type": "code",
      "source": [
        "!pip install sounddevice"
      ],
      "metadata": {
        "id": "rsrfzOZ4iCr0"
      },
      "execution_count": null,
      "outputs": []
    },
    {
      "cell_type": "code",
      "source": [
        "!pip install pyaudio"
      ],
      "metadata": {
        "id": "vEiEow2qiJuL"
      },
      "execution_count": null,
      "outputs": []
    },
    {
      "cell_type": "code",
      "source": [
        "pip install librosa scikit-learn python_speech_features sounddevice tqdm"
      ],
      "metadata": {
        "id": "Eo27kQ2JjEz3"
      },
      "execution_count": null,
      "outputs": []
    },
    {
      "cell_type": "code",
      "source": [
        "pip install sounddevice"
      ],
      "metadata": {
        "id": "uDZsWXA-jYFd"
      },
      "execution_count": null,
      "outputs": []
    },
    {
      "cell_type": "code",
      "source": [
        "!pip install resampy"
      ],
      "metadata": {
        "id": "nJChujVjMl_1"
      },
      "execution_count": null,
      "outputs": []
    },
    {
      "cell_type": "code",
      "source": [
        "!pip install --upgrade librosa"
      ],
      "metadata": {
        "id": "01EzfC_PQzd4"
      },
      "execution_count": null,
      "outputs": []
    },
    {
      "cell_type": "code",
      "execution_count": 50,
      "metadata": {
        "id": "DCsKHDdAgKY3"
      },
      "outputs": [],
      "source": [
        "import os\n",
        "import librosa\n",
        "import numpy as np\n",
        "from sklearn.model_selection import train_test_split\n",
        "from sklearn.preprocessing import LabelEncoder\n",
        "from sklearn.ensemble import RandomForestClassifier\n",
        "from sklearn.metrics import accuracy_score\n",
        "from python_speech_features import mfcc\n",
        "from tqdm import tqdm\n",
        "#import sounddevice as sd"
      ]
    },
    {
      "cell_type": "code",
      "source": [
        "import librosa\n",
        "import numpy as np\n",
        "\n",
        "# Function to extract MFCC features\n",
        "def extract_mfcc_features(audio, sr=16000, num_cepstral=13, frame_length=0.02, frame_stride=0.02,\n",
        "                           num_filters=32, fft_length=320, preemphasis_coeff=0.98):\n",
        "    # Apply pre-emphasis\n",
        "    audio = np.append(audio[0], audio[1:] - preemphasis_coeff * audio[:-1])\n",
        "\n",
        "    # Compute the short-time Fourier transform (STFT)\n",
        "    hop_length = int(frame_stride * sr)\n",
        "    n_fft = fft_length\n",
        "    window = \"hann\"  # You can choose a different window function if needed\n",
        "    stft_result = librosa.core.stft(audio, hop_length=hop_length, n_fft=n_fft, window=window)\n",
        "\n",
        "    # Compute the mel spectrogram\n",
        "    mel_spectrogram = librosa.feature.melspectrogram(S=np.abs(stft_result)**2, sr=sr, n_mels=num_filters)\n",
        "\n",
        "    # Logarithm of the mel spectrogram\n",
        "    log_mel_energy = np.log(mel_spectrogram + 1e-9)\n",
        "\n",
        "    # Extract MFCC features using DCT\n",
        "    mfcc_features = librosa.feature.mfcc(S=log_mel_energy, n_mfcc=num_cepstral)\n",
        "\n",
        "    # Apply mean and variance normalization across time\n",
        "    mfcc_features = librosa.util.normalize(mfcc_features, norm=2, axis=0, fill=True)\n",
        "\n",
        "    return mfcc_features"
      ],
      "metadata": {
        "id": "e2s2wkID00Bt"
      },
      "execution_count": 51,
      "outputs": []
    },
    {
      "cell_type": "code",
      "source": [
        "# # Function to load data and preprocess\n",
        "# def preprocess_data(data_dir, test_size=0.2):\n",
        "#     labels = []\n",
        "#     features = []\n",
        "\n",
        "#     for class_label in os.listdir(data_dir):\n",
        "#         class_path = os.path.join(data_dir, class_label)\n",
        "#         if os.path.isdir(class_path):  # Ensure it's a directory\n",
        "#             for file_name in tqdm(os.listdir(class_path), desc=f\"Processing {class_label}\"):\n",
        "#                 file_path = os.path.join(class_path, file_name)\n",
        "#                 audio, _ = librosa.load(file_path, res_type='kaiser_fast', duration=2.0, offset=0.0)\n",
        "#                 mfcc_features = extract_mfcc_features(audio)\n",
        "#                 features.append(mfcc_features)\n",
        "#                 labels.append(class_label)\n",
        "\n",
        "#     features = np.array(features)\n",
        "#     labels = np.array(labels)\n",
        "\n",
        "#     # Split the data into training and testing sets\n",
        "#     X_train, X_test, y_train, y_test = train_test_split(features, labels, test_size=test_size, random_state=42)\n",
        "\n",
        "#     return (X_train, y_train), (X_test, y_test), labels"
      ],
      "metadata": {
        "id": "ey8Lg5TYg2rW"
      },
      "execution_count": 52,
      "outputs": []
    },
    {
      "cell_type": "code",
      "source": [
        "def preprocess_data(data_dir):\n",
        "    data = []\n",
        "    labels = []\n",
        "    features = []\n",
        "\n",
        "    for class_label in os.listdir(data_dir):\n",
        "        class_path = os.path.join(data_dir, class_label)\n",
        "        for file_name in tqdm(os.listdir(class_path), desc=f\"Processing {class_label}\"):\n",
        "            file_path = os.path.join(class_path, file_name)\n",
        "            audio, _ = librosa.load(file_path, sr = 16000)\n",
        "\n",
        "            # Simply append the raw audio data to the dataset\n",
        "            data.append({\n",
        "                'audio': audio,\n",
        "                'label': class_label\n",
        "            })\n",
        "            mfcc_features = extract_mfcc_features(audio)\n",
        "            features.append(mfcc_features)\n",
        "            labels.append(class_label)\n",
        "\n",
        "    features = np.array(features)\n",
        "    labels = np.array(labels)\n",
        "    classes = set(labels)\n",
        "\n",
        "     #Split the data into training and testing sets\n",
        "    X_train, X_test, y_train, y_test = train_test_split(features, labels, test_size=0.2, random_state=42)\n",
        "\n",
        "    return features ,classes ,(X_train, y_train), (X_test, y_test)\n",
        "# Example usage\n",
        "data_dir = \"/content/drive/MyDrive/hackathon\""
      ],
      "metadata": {
        "id": "FlTYdor1XjW7"
      },
      "execution_count": 53,
      "outputs": []
    },
    {
      "cell_type": "code",
      "source": [
        "import keras\n",
        "from keras.layers import Input, Reshape, Conv1D, MaxPooling1D, Dropout, Flatten, Dense\n",
        "from keras.optimizers import Adam\n",
        "from sklearn.preprocessing import LabelEncoder\n",
        "\n",
        "def train_model(X_train, y_train, num_classes, X_test, y_test):\n",
        "    encoder = LabelEncoder()\n",
        "    encoded_labels_train = encoder.fit_transform(y_train)\n",
        "    encoded_labels_test = encoder.transform(y_test)  # Use transform for test data\n",
        "\n",
        "    model = keras.Sequential([\n",
        "        Input(shape=(X_train.shape[1], X_train.shape[2])),\n",
        "        Reshape((13, -1)),\n",
        "        Conv1D(8, kernel_size=3, activation='relu'),\n",
        "        MaxPooling1D(pool_size=2),\n",
        "        Dropout(0.25),\n",
        "        Conv1D(16, kernel_size=3, activation='relu'),\n",
        "        MaxPooling1D(pool_size=2),\n",
        "        Dropout(0.25),\n",
        "        Flatten(),\n",
        "        Dense(num_classes, activation='softmax')\n",
        "    ])\n",
        "\n",
        "    model.compile(optimizer=Adam(learning_rate=0.01), loss='sparse_categorical_crossentropy', metrics=['accuracy'])\n",
        "    model.summary()\n",
        "\n",
        "    model.fit(X_train, encoded_labels_train, epochs=100, batch_size=32, validation_data=(X_test, encoded_labels_test))\n",
        "\n",
        "    return model, encoder\n",
        "\n",
        "\n",
        "# Assuming you have features, classes, (X_train, y_train), (X_test, y_test) from preprocess_data\n",
        "features, classes, (X_train, y_train), (X_test, y_test) = preprocess_data(data_dir)\n",
        "num_classes = len(classes)\n",
        "\n",
        "# Train the model\n",
        "trained_model, label_encoder = train_model(X_train, y_train, num_classes, X_test, y_test)"
      ],
      "metadata": {
        "colab": {
          "base_uri": "https://localhost:8080/"
        },
        "id": "YSNH84kCg5W_",
        "outputId": "5b5cad5b-9b0a-4af4-94fc-68635c4b940c"
      },
      "execution_count": 54,
      "outputs": [
        {
          "output_type": "stream",
          "name": "stderr",
          "text": [
            "Processing door_close: 100%|██████████| 3503/3503 [00:36<00:00, 95.01it/s] \n",
            "Processing door_open: 100%|██████████| 6398/6398 [00:32<00:00, 197.70it/s]\n",
            "Processing door_stop: 100%|██████████| 2823/2823 [00:14<00:00, 198.58it/s]\n"
          ]
        },
        {
          "output_type": "stream",
          "name": "stdout",
          "text": [
            "Model: \"sequential_4\"\n",
            "_________________________________________________________________\n",
            " Layer (type)                Output Shape              Param #   \n",
            "=================================================================\n",
            " reshape_4 (Reshape)         (None, 13, 51)            0         \n",
            "                                                                 \n",
            " conv1d_8 (Conv1D)           (None, 11, 8)             1232      \n",
            "                                                                 \n",
            " max_pooling1d_8 (MaxPoolin  (None, 5, 8)              0         \n",
            " g1D)                                                            \n",
            "                                                                 \n",
            " dropout_8 (Dropout)         (None, 5, 8)              0         \n",
            "                                                                 \n",
            " conv1d_9 (Conv1D)           (None, 3, 16)             400       \n",
            "                                                                 \n",
            " max_pooling1d_9 (MaxPoolin  (None, 1, 16)             0         \n",
            " g1D)                                                            \n",
            "                                                                 \n",
            " dropout_9 (Dropout)         (None, 1, 16)             0         \n",
            "                                                                 \n",
            " flatten_4 (Flatten)         (None, 16)                0         \n",
            "                                                                 \n",
            " dense_4 (Dense)             (None, 3)                 51        \n",
            "                                                                 \n",
            "=================================================================\n",
            "Total params: 1683 (6.57 KB)\n",
            "Trainable params: 1683 (6.57 KB)\n",
            "Non-trainable params: 0 (0.00 Byte)\n",
            "_________________________________________________________________\n",
            "Epoch 1/100\n",
            "319/319 [==============================] - 1s 2ms/step - loss: 0.6466 - accuracy: 0.7247 - val_loss: 0.3719 - val_accuracy: 0.8672\n",
            "Epoch 2/100\n",
            "319/319 [==============================] - 1s 2ms/step - loss: 0.4679 - accuracy: 0.8287 - val_loss: 0.3595 - val_accuracy: 0.8739\n",
            "Epoch 3/100\n",
            "319/319 [==============================] - 1s 2ms/step - loss: 0.4408 - accuracy: 0.8332 - val_loss: 0.3277 - val_accuracy: 0.8880\n",
            "Epoch 4/100\n",
            "319/319 [==============================] - 1s 2ms/step - loss: 0.4266 - accuracy: 0.8403 - val_loss: 0.3091 - val_accuracy: 0.8951\n",
            "Epoch 5/100\n",
            "319/319 [==============================] - 1s 2ms/step - loss: 0.4001 - accuracy: 0.8512 - val_loss: 0.2944 - val_accuracy: 0.9041\n",
            "Epoch 6/100\n",
            "319/319 [==============================] - 1s 2ms/step - loss: 0.3931 - accuracy: 0.8580 - val_loss: 0.2813 - val_accuracy: 0.9065\n",
            "Epoch 7/100\n",
            "319/319 [==============================] - 1s 2ms/step - loss: 0.3828 - accuracy: 0.8593 - val_loss: 0.2817 - val_accuracy: 0.9045\n",
            "Epoch 8/100\n",
            "319/319 [==============================] - 1s 2ms/step - loss: 0.3787 - accuracy: 0.8623 - val_loss: 0.2600 - val_accuracy: 0.9132\n",
            "Epoch 9/100\n",
            "319/319 [==============================] - 1s 2ms/step - loss: 0.3854 - accuracy: 0.8606 - val_loss: 0.2679 - val_accuracy: 0.9120\n",
            "Epoch 10/100\n",
            "319/319 [==============================] - 1s 2ms/step - loss: 0.3766 - accuracy: 0.8611 - val_loss: 0.2730 - val_accuracy: 0.9029\n",
            "Epoch 11/100\n",
            "319/319 [==============================] - 1s 2ms/step - loss: 0.3679 - accuracy: 0.8673 - val_loss: 0.2554 - val_accuracy: 0.9159\n",
            "Epoch 12/100\n",
            "319/319 [==============================] - 1s 2ms/step - loss: 0.3712 - accuracy: 0.8641 - val_loss: 0.2605 - val_accuracy: 0.9147\n",
            "Epoch 13/100\n",
            "319/319 [==============================] - 1s 2ms/step - loss: 0.3735 - accuracy: 0.8614 - val_loss: 0.2515 - val_accuracy: 0.9136\n",
            "Epoch 14/100\n",
            "319/319 [==============================] - 1s 3ms/step - loss: 0.3718 - accuracy: 0.8617 - val_loss: 0.2589 - val_accuracy: 0.9198\n",
            "Epoch 15/100\n",
            "319/319 [==============================] - 1s 3ms/step - loss: 0.3663 - accuracy: 0.8656 - val_loss: 0.2522 - val_accuracy: 0.9194\n",
            "Epoch 16/100\n",
            "319/319 [==============================] - 1s 2ms/step - loss: 0.3636 - accuracy: 0.8675 - val_loss: 0.2427 - val_accuracy: 0.9218\n",
            "Epoch 17/100\n",
            "319/319 [==============================] - 1s 2ms/step - loss: 0.3665 - accuracy: 0.8647 - val_loss: 0.2473 - val_accuracy: 0.9167\n",
            "Epoch 18/100\n",
            "319/319 [==============================] - 1s 2ms/step - loss: 0.3589 - accuracy: 0.8706 - val_loss: 0.2413 - val_accuracy: 0.9194\n",
            "Epoch 19/100\n",
            "319/319 [==============================] - 1s 2ms/step - loss: 0.3689 - accuracy: 0.8660 - val_loss: 0.2433 - val_accuracy: 0.9194\n",
            "Epoch 20/100\n",
            "319/319 [==============================] - 1s 2ms/step - loss: 0.3499 - accuracy: 0.8733 - val_loss: 0.2388 - val_accuracy: 0.9214\n",
            "Epoch 21/100\n",
            "319/319 [==============================] - 1s 2ms/step - loss: 0.3599 - accuracy: 0.8704 - val_loss: 0.2456 - val_accuracy: 0.9202\n",
            "Epoch 22/100\n",
            "319/319 [==============================] - 1s 2ms/step - loss: 0.3552 - accuracy: 0.8717 - val_loss: 0.2329 - val_accuracy: 0.9285\n",
            "Epoch 23/100\n",
            "319/319 [==============================] - 1s 2ms/step - loss: 0.3630 - accuracy: 0.8658 - val_loss: 0.2261 - val_accuracy: 0.9257\n",
            "Epoch 24/100\n",
            "319/319 [==============================] - 1s 2ms/step - loss: 0.3511 - accuracy: 0.8687 - val_loss: 0.2406 - val_accuracy: 0.9253\n",
            "Epoch 25/100\n",
            "319/319 [==============================] - 1s 2ms/step - loss: 0.3442 - accuracy: 0.8738 - val_loss: 0.2376 - val_accuracy: 0.9257\n",
            "Epoch 26/100\n",
            "319/319 [==============================] - 1s 2ms/step - loss: 0.3580 - accuracy: 0.8674 - val_loss: 0.2344 - val_accuracy: 0.9265\n",
            "Epoch 27/100\n",
            "319/319 [==============================] - 1s 2ms/step - loss: 0.3520 - accuracy: 0.8712 - val_loss: 0.2284 - val_accuracy: 0.9269\n",
            "Epoch 28/100\n",
            "319/319 [==============================] - 1s 2ms/step - loss: 0.3452 - accuracy: 0.8759 - val_loss: 0.2315 - val_accuracy: 0.9269\n",
            "Epoch 29/100\n",
            "319/319 [==============================] - 1s 2ms/step - loss: 0.3574 - accuracy: 0.8679 - val_loss: 0.2410 - val_accuracy: 0.9273\n",
            "Epoch 30/100\n",
            "319/319 [==============================] - 1s 2ms/step - loss: 0.3477 - accuracy: 0.8729 - val_loss: 0.2254 - val_accuracy: 0.9301\n",
            "Epoch 31/100\n",
            "319/319 [==============================] - 1s 3ms/step - loss: 0.3477 - accuracy: 0.8749 - val_loss: 0.2344 - val_accuracy: 0.9265\n",
            "Epoch 32/100\n",
            "319/319 [==============================] - 1s 3ms/step - loss: 0.3584 - accuracy: 0.8686 - val_loss: 0.2438 - val_accuracy: 0.9242\n",
            "Epoch 33/100\n",
            "319/319 [==============================] - 1s 3ms/step - loss: 0.3587 - accuracy: 0.8694 - val_loss: 0.2329 - val_accuracy: 0.9297\n",
            "Epoch 34/100\n",
            "319/319 [==============================] - 1s 2ms/step - loss: 0.3540 - accuracy: 0.8706 - val_loss: 0.2209 - val_accuracy: 0.9312\n",
            "Epoch 35/100\n",
            "319/319 [==============================] - 1s 2ms/step - loss: 0.3474 - accuracy: 0.8761 - val_loss: 0.2218 - val_accuracy: 0.9312\n",
            "Epoch 36/100\n",
            "319/319 [==============================] - 1s 2ms/step - loss: 0.3462 - accuracy: 0.8713 - val_loss: 0.2327 - val_accuracy: 0.9308\n",
            "Epoch 37/100\n",
            "319/319 [==============================] - 1s 2ms/step - loss: 0.3524 - accuracy: 0.8709 - val_loss: 0.2374 - val_accuracy: 0.9242\n",
            "Epoch 38/100\n",
            "319/319 [==============================] - 1s 2ms/step - loss: 0.3529 - accuracy: 0.8700 - val_loss: 0.2347 - val_accuracy: 0.9206\n",
            "Epoch 39/100\n",
            "319/319 [==============================] - 1s 2ms/step - loss: 0.3496 - accuracy: 0.8712 - val_loss: 0.2260 - val_accuracy: 0.9250\n",
            "Epoch 40/100\n",
            "319/319 [==============================] - 1s 2ms/step - loss: 0.3425 - accuracy: 0.8751 - val_loss: 0.2302 - val_accuracy: 0.9273\n",
            "Epoch 41/100\n",
            "319/319 [==============================] - 1s 2ms/step - loss: 0.3454 - accuracy: 0.8751 - val_loss: 0.2306 - val_accuracy: 0.9273\n",
            "Epoch 42/100\n",
            "319/319 [==============================] - 1s 2ms/step - loss: 0.3461 - accuracy: 0.8739 - val_loss: 0.2383 - val_accuracy: 0.9246\n",
            "Epoch 43/100\n",
            "319/319 [==============================] - 1s 2ms/step - loss: 0.3538 - accuracy: 0.8675 - val_loss: 0.2452 - val_accuracy: 0.9151\n",
            "Epoch 44/100\n",
            "319/319 [==============================] - 1s 2ms/step - loss: 0.3465 - accuracy: 0.8711 - val_loss: 0.2315 - val_accuracy: 0.9210\n",
            "Epoch 45/100\n",
            "319/319 [==============================] - 1s 2ms/step - loss: 0.3535 - accuracy: 0.8698 - val_loss: 0.2310 - val_accuracy: 0.9218\n",
            "Epoch 46/100\n",
            "319/319 [==============================] - 1s 2ms/step - loss: 0.3469 - accuracy: 0.8742 - val_loss: 0.2366 - val_accuracy: 0.9253\n",
            "Epoch 47/100\n",
            "319/319 [==============================] - 1s 2ms/step - loss: 0.3394 - accuracy: 0.8766 - val_loss: 0.2261 - val_accuracy: 0.9269\n",
            "Epoch 48/100\n",
            "319/319 [==============================] - 1s 2ms/step - loss: 0.3498 - accuracy: 0.8725 - val_loss: 0.2434 - val_accuracy: 0.9234\n",
            "Epoch 49/100\n",
            "319/319 [==============================] - 1s 3ms/step - loss: 0.3523 - accuracy: 0.8755 - val_loss: 0.2349 - val_accuracy: 0.9265\n",
            "Epoch 50/100\n",
            "319/319 [==============================] - 1s 4ms/step - loss: 0.3494 - accuracy: 0.8712 - val_loss: 0.2495 - val_accuracy: 0.9301\n",
            "Epoch 51/100\n",
            "319/319 [==============================] - 1s 4ms/step - loss: 0.3387 - accuracy: 0.8731 - val_loss: 0.2354 - val_accuracy: 0.9261\n",
            "Epoch 52/100\n",
            "319/319 [==============================] - 1s 2ms/step - loss: 0.3370 - accuracy: 0.8784 - val_loss: 0.2392 - val_accuracy: 0.9265\n",
            "Epoch 53/100\n",
            "319/319 [==============================] - 1s 2ms/step - loss: 0.3470 - accuracy: 0.8729 - val_loss: 0.2315 - val_accuracy: 0.9352\n",
            "Epoch 54/100\n",
            "319/319 [==============================] - 1s 2ms/step - loss: 0.3444 - accuracy: 0.8758 - val_loss: 0.2387 - val_accuracy: 0.9308\n",
            "Epoch 55/100\n",
            "319/319 [==============================] - 1s 2ms/step - loss: 0.3373 - accuracy: 0.8759 - val_loss: 0.2211 - val_accuracy: 0.9273\n",
            "Epoch 56/100\n",
            "319/319 [==============================] - 1s 2ms/step - loss: 0.3382 - accuracy: 0.8764 - val_loss: 0.2291 - val_accuracy: 0.9293\n",
            "Epoch 57/100\n",
            "319/319 [==============================] - 1s 2ms/step - loss: 0.3482 - accuracy: 0.8736 - val_loss: 0.2325 - val_accuracy: 0.9242\n",
            "Epoch 58/100\n",
            "319/319 [==============================] - 1s 2ms/step - loss: 0.3478 - accuracy: 0.8749 - val_loss: 0.2253 - val_accuracy: 0.9320\n",
            "Epoch 59/100\n",
            "319/319 [==============================] - 1s 2ms/step - loss: 0.3323 - accuracy: 0.8785 - val_loss: 0.2584 - val_accuracy: 0.9139\n",
            "Epoch 60/100\n",
            "319/319 [==============================] - 1s 2ms/step - loss: 0.3454 - accuracy: 0.8736 - val_loss: 0.2366 - val_accuracy: 0.9257\n",
            "Epoch 61/100\n",
            "319/319 [==============================] - 1s 3ms/step - loss: 0.3418 - accuracy: 0.8780 - val_loss: 0.2343 - val_accuracy: 0.9253\n",
            "Epoch 62/100\n",
            "319/319 [==============================] - 1s 2ms/step - loss: 0.3560 - accuracy: 0.8697 - val_loss: 0.2345 - val_accuracy: 0.9250\n",
            "Epoch 63/100\n",
            "319/319 [==============================] - 1s 2ms/step - loss: 0.3513 - accuracy: 0.8733 - val_loss: 0.2385 - val_accuracy: 0.9234\n",
            "Epoch 64/100\n",
            "319/319 [==============================] - 1s 2ms/step - loss: 0.3515 - accuracy: 0.8713 - val_loss: 0.2383 - val_accuracy: 0.9250\n",
            "Epoch 65/100\n",
            "319/319 [==============================] - 1s 2ms/step - loss: 0.3324 - accuracy: 0.8780 - val_loss: 0.2346 - val_accuracy: 0.9246\n",
            "Epoch 66/100\n",
            "319/319 [==============================] - 1s 3ms/step - loss: 0.3494 - accuracy: 0.8732 - val_loss: 0.2453 - val_accuracy: 0.9159\n",
            "Epoch 67/100\n",
            "319/319 [==============================] - 1s 3ms/step - loss: 0.3408 - accuracy: 0.8749 - val_loss: 0.2205 - val_accuracy: 0.9265\n",
            "Epoch 68/100\n",
            "319/319 [==============================] - 1s 3ms/step - loss: 0.3538 - accuracy: 0.8684 - val_loss: 0.2234 - val_accuracy: 0.9242\n",
            "Epoch 69/100\n",
            "319/319 [==============================] - 1s 2ms/step - loss: 0.3420 - accuracy: 0.8779 - val_loss: 0.2339 - val_accuracy: 0.9250\n",
            "Epoch 70/100\n",
            "319/319 [==============================] - 1s 2ms/step - loss: 0.3425 - accuracy: 0.8764 - val_loss: 0.2197 - val_accuracy: 0.9316\n",
            "Epoch 71/100\n",
            "319/319 [==============================] - 1s 2ms/step - loss: 0.3401 - accuracy: 0.8750 - val_loss: 0.2309 - val_accuracy: 0.9242\n",
            "Epoch 72/100\n",
            "319/319 [==============================] - 1s 2ms/step - loss: 0.3339 - accuracy: 0.8815 - val_loss: 0.2393 - val_accuracy: 0.9230\n",
            "Epoch 73/100\n",
            "319/319 [==============================] - 1s 2ms/step - loss: 0.3426 - accuracy: 0.8714 - val_loss: 0.2367 - val_accuracy: 0.9206\n",
            "Epoch 74/100\n",
            "319/319 [==============================] - 1s 2ms/step - loss: 0.3467 - accuracy: 0.8709 - val_loss: 0.2438 - val_accuracy: 0.9265\n",
            "Epoch 75/100\n",
            "319/319 [==============================] - 1s 2ms/step - loss: 0.3484 - accuracy: 0.8706 - val_loss: 0.2270 - val_accuracy: 0.9261\n",
            "Epoch 76/100\n",
            "319/319 [==============================] - 1s 2ms/step - loss: 0.3466 - accuracy: 0.8752 - val_loss: 0.2252 - val_accuracy: 0.9293\n",
            "Epoch 77/100\n",
            "319/319 [==============================] - 1s 2ms/step - loss: 0.3334 - accuracy: 0.8774 - val_loss: 0.2170 - val_accuracy: 0.9285\n",
            "Epoch 78/100\n",
            "319/319 [==============================] - 1s 2ms/step - loss: 0.3330 - accuracy: 0.8765 - val_loss: 0.2346 - val_accuracy: 0.9285\n",
            "Epoch 79/100\n",
            "319/319 [==============================] - 1s 2ms/step - loss: 0.3452 - accuracy: 0.8724 - val_loss: 0.2240 - val_accuracy: 0.9269\n",
            "Epoch 80/100\n",
            "319/319 [==============================] - 1s 2ms/step - loss: 0.3469 - accuracy: 0.8754 - val_loss: 0.2278 - val_accuracy: 0.9301\n",
            "Epoch 81/100\n",
            "319/319 [==============================] - 1s 2ms/step - loss: 0.3413 - accuracy: 0.8789 - val_loss: 0.2398 - val_accuracy: 0.9194\n",
            "Epoch 82/100\n",
            "319/319 [==============================] - 1s 2ms/step - loss: 0.3367 - accuracy: 0.8756 - val_loss: 0.2388 - val_accuracy: 0.9242\n",
            "Epoch 83/100\n",
            "319/319 [==============================] - 1s 2ms/step - loss: 0.3378 - accuracy: 0.8751 - val_loss: 0.2296 - val_accuracy: 0.9285\n",
            "Epoch 84/100\n",
            "319/319 [==============================] - 1s 3ms/step - loss: 0.3280 - accuracy: 0.8803 - val_loss: 0.2271 - val_accuracy: 0.9234\n",
            "Epoch 85/100\n",
            "319/319 [==============================] - 1s 3ms/step - loss: 0.3343 - accuracy: 0.8753 - val_loss: 0.2238 - val_accuracy: 0.9281\n",
            "Epoch 86/100\n",
            "319/319 [==============================] - 1s 2ms/step - loss: 0.3355 - accuracy: 0.8742 - val_loss: 0.2228 - val_accuracy: 0.9308\n",
            "Epoch 87/100\n",
            "319/319 [==============================] - 1s 2ms/step - loss: 0.3265 - accuracy: 0.8809 - val_loss: 0.2447 - val_accuracy: 0.9202\n",
            "Epoch 88/100\n",
            "319/319 [==============================] - 1s 2ms/step - loss: 0.3400 - accuracy: 0.8743 - val_loss: 0.2224 - val_accuracy: 0.9238\n",
            "Epoch 89/100\n",
            "319/319 [==============================] - 1s 2ms/step - loss: 0.3416 - accuracy: 0.8744 - val_loss: 0.2292 - val_accuracy: 0.9250\n",
            "Epoch 90/100\n",
            "319/319 [==============================] - 1s 2ms/step - loss: 0.3338 - accuracy: 0.8788 - val_loss: 0.2371 - val_accuracy: 0.9253\n",
            "Epoch 91/100\n",
            "319/319 [==============================] - 1s 2ms/step - loss: 0.3487 - accuracy: 0.8689 - val_loss: 0.2268 - val_accuracy: 0.9289\n",
            "Epoch 92/100\n",
            "319/319 [==============================] - 1s 2ms/step - loss: 0.3294 - accuracy: 0.8780 - val_loss: 0.2141 - val_accuracy: 0.9293\n",
            "Epoch 93/100\n",
            "319/319 [==============================] - 1s 2ms/step - loss: 0.3386 - accuracy: 0.8756 - val_loss: 0.2375 - val_accuracy: 0.9234\n",
            "Epoch 94/100\n",
            "319/319 [==============================] - 1s 2ms/step - loss: 0.3389 - accuracy: 0.8772 - val_loss: 0.2318 - val_accuracy: 0.9183\n",
            "Epoch 95/100\n",
            "319/319 [==============================] - 1s 2ms/step - loss: 0.3483 - accuracy: 0.8739 - val_loss: 0.2392 - val_accuracy: 0.9273\n",
            "Epoch 96/100\n",
            "319/319 [==============================] - 1s 2ms/step - loss: 0.3411 - accuracy: 0.8808 - val_loss: 0.2321 - val_accuracy: 0.9257\n",
            "Epoch 97/100\n",
            "319/319 [==============================] - 1s 2ms/step - loss: 0.3353 - accuracy: 0.8794 - val_loss: 0.2164 - val_accuracy: 0.9293\n",
            "Epoch 98/100\n",
            "319/319 [==============================] - 1s 2ms/step - loss: 0.3324 - accuracy: 0.8769 - val_loss: 0.2142 - val_accuracy: 0.9305\n",
            "Epoch 99/100\n",
            "319/319 [==============================] - 1s 2ms/step - loss: 0.3421 - accuracy: 0.8707 - val_loss: 0.2289 - val_accuracy: 0.9265\n",
            "Epoch 100/100\n",
            "319/319 [==============================] - 1s 2ms/step - loss: 0.3365 - accuracy: 0.8746 - val_loss: 0.2321 - val_accuracy: 0.9198\n"
          ]
        }
      ]
    },
    {
      "cell_type": "code",
      "source": [
        "from sklearn.metrics import accuracy_score, precision_score, recall_score, f1_score, confusion_matrix\n",
        "import seaborn as sns\n",
        "import matplotlib.pyplot as plt\n",
        "\n",
        "# Function to calculate and print multiple evaluation metrics\n",
        "def evaluate_model(model, X_test, y_test, label_encoder):\n",
        "    # Predictions on test set\n",
        "    y_pred = model.predict(X_test)\n",
        "\n",
        "    # Convert predictions to class labels\n",
        "    y_pred_labels = label_encoder.inverse_transform(np.argmax(y_pred, axis=1))\n",
        "\n",
        "    # Calculate and print accuracy\n",
        "    accuracy = accuracy_score(y_test, y_pred_labels)\n",
        "    print(f'Accuracy: {accuracy * 100:.2f}%')\n",
        "\n",
        "    # Calculate and print precision, recall, and F1 score\n",
        "    precision = precision_score(y_test, y_pred_labels, average='weighted')\n",
        "    recall = recall_score(y_test, y_pred_labels, average='weighted')\n",
        "    f1 = f1_score(y_test, y_pred_labels, average='weighted')\n",
        "\n",
        "    print(f'Precision: {precision * 100:.2f}%')\n",
        "    print(f'Recall: {recall * 100:.2f}%')\n",
        "    print(f'F1 Score: {f1 * 100:.2f}%')\n",
        "\n",
        "    # Generate and plot confusion matrix\n",
        "    cm = confusion_matrix(y_test, y_pred_labels, labels=label_encoder.classes_)\n",
        "    plt.figure(figsize=(10, 8))\n",
        "    sns.heatmap(cm, annot=True, fmt='d', cmap='Blues', xticklabels=label_encoder.classes_, yticklabels=label_encoder.classes_)\n",
        "    plt.title('Confusion Matrix')\n",
        "    plt.xlabel('Predicted Labels')\n",
        "    plt.ylabel('True Labels')\n",
        "    plt.show()\n",
        "\n",
        "# Assuming you have the trained_model, X_test, y_test, and label_encoder\n",
        "evaluate_model(trained_model, X_test, y_test, label_encoder)\n"
      ],
      "metadata": {
        "id": "WwV5Jxl1z3h5",
        "outputId": "c4a6860e-6cb0-4529-f707-3d31ff291f05",
        "colab": {
          "base_uri": "https://localhost:8080/",
          "height": 805
        }
      },
      "execution_count": 61,
      "outputs": [
        {
          "output_type": "stream",
          "name": "stdout",
          "text": [
            "80/80 [==============================] - 0s 5ms/step\n",
            "Accuracy: 91.98%\n",
            "Precision: 92.05%\n",
            "Recall: 91.98%\n",
            "F1 Score: 91.94%\n"
          ]
        },
        {
          "output_type": "display_data",
          "data": {
            "text/plain": [
              "<Figure size 1000x800 with 2 Axes>"
            ],
            "image/png": "[encoded data removed]"
          },
          "metadata": {}
        }
      ]
    },
    {
      "cell_type": "code",
      "source": [
        "from sklearn.metrics import accuracy_score, classification_report, confusion_matrix\n",
        "\n",
        "# Predictions on test set\n",
        "y_pred_probs = trained_model.predict(X_test)\n",
        "y_pred = np.argmax(y_pred_probs, axis=1)\n",
        "\n",
        "# Convert predictions back to original labels if needed\n",
        "y_pred_original = label_encoder.inverse_transform(y_pred)\n",
        "\n",
        "\n",
        "# Convert predictions back to original labels if needed\n",
        "y_pred_original = label_encoder.inverse_transform(y_pred)\n",
        "\n",
        "# Accuracy\n",
        "accuracy = accuracy_score(encoded_labels_test, y_pred)\n",
        "print(f'Accuracy: {accuracy:.4f}')\n",
        "\n",
        "# Classification Report\n",
        "class_report = classification_report(encoded_labels_test, y_pred)\n",
        "print('Classification Report:\\n', class_report)\n",
        "\n",
        "# Confusion Matrix\n",
        "conf_matrix = confusion_matrix(encoded_labels_test, y_pred)\n",
        "print('Confusion Matrix:\\n', conf_matrix)\n"
      ],
      "metadata": {
        "colab": {
          "base_uri": "https://localhost:8080/",
          "height": 263
        },
        "id": "7_NelRhJsgjh",
        "outputId": "827e5b72-3c0c-485f-f166-327d0dab7b7f"
      },
      "execution_count": 55,
      "outputs": [
        {
          "output_type": "stream",
          "name": "stdout",
          "text": [
            "80/80 [==============================] - 0s 1ms/step\n"
          ]
        },
        {
          "output_type": "error",
          "ename": "NameError",
          "evalue": "name 'encoded_labels_test' is not defined",
          "traceback": [
            "\u001b[0;31m---------------------------------------------------------------------------\u001b[0m",
            "\u001b[0;31mNameError\u001b[0m                                 Traceback (most recent call last)",
            "\u001b[0;32m<ipython-input-55-edd55674ffc9>\u001b[0m in \u001b[0;36m<cell line: 15>\u001b[0;34m()\u001b[0m\n\u001b[1;32m     13\u001b[0m \u001b[0;34m\u001b[0m\u001b[0m\n\u001b[1;32m     14\u001b[0m \u001b[0;31m# Accuracy\u001b[0m\u001b[0;34m\u001b[0m\u001b[0;34m\u001b[0m\u001b[0m\n\u001b[0;32m---> 15\u001b[0;31m \u001b[0maccuracy\u001b[0m \u001b[0;34m=\u001b[0m \u001b[0maccuracy_score\u001b[0m\u001b[0;34m(\u001b[0m\u001b[0mencoded_labels_test\u001b[0m\u001b[0;34m,\u001b[0m \u001b[0my_pred\u001b[0m\u001b[0;34m)\u001b[0m\u001b[0;34m\u001b[0m\u001b[0;34m\u001b[0m\u001b[0m\n\u001b[0m\u001b[1;32m     16\u001b[0m \u001b[0mprint\u001b[0m\u001b[0;34m(\u001b[0m\u001b[0;34mf'Accuracy: {accuracy:.4f}'\u001b[0m\u001b[0;34m)\u001b[0m\u001b[0;34m\u001b[0m\u001b[0;34m\u001b[0m\u001b[0m\n\u001b[1;32m     17\u001b[0m \u001b[0;34m\u001b[0m\u001b[0m\n",
            "\u001b[0;31mNameError\u001b[0m: name 'encoded_labels_test' is not defined"
          ]
        }
      ]
    },
    {
      "cell_type": "markdown",
      "source": [
        "# **Inferencing**\n"
      ],
      "metadata": {
        "id": "ufS5KbiEqHpa"
      }
    },
    {
      "cell_type": "code",
      "source": [
        "# Real-time inference\n",
        "def real_time_inference(model, encoder):\n",
        "    duration = 1  # seconds\n",
        "    sample_rate = 16000\n",
        "\n",
        "    print(\"Listening for real-time inference...\")\n",
        "\n",
        "    p = pyaudio.PyAudio()\n",
        "    stream = p.open(format=pyaudio.paInt16,\n",
        "                    channels=1,\n",
        "                    rate=sample_rate,\n",
        "                    input=True,\n",
        "                    frames_per_buffer=int(sample_rate * duration))\n",
        "\n",
        "    while True:\n",
        "        # Record audio from the microphone\n",
        "        audio_input = np.frombuffer(stream.read(int(sample_rate * duration), exception_on_overflow=False), dtype=np.int16)\n",
        "\n",
        "        # Extract MFCC features from the audio input\n",
        "        mfcc_features = extract_features(audio_input)\n",
        "\n",
        "        # Perform real-time prediction\n",
        "        prediction = model.predict([mfcc_features])\n",
        "\n",
        "        # Inverse transform to get the predicted class label\n",
        "        class_label = encoder.inverse_transform(prediction)[0]\n",
        "\n",
        "        # Print the predicted class label\n",
        "        print(f\"Predicted class: {class_label}\")\n",
        "\n",
        "    stream.stop_stream()\n",
        "    stream.close()\n",
        "    p.terminate()\n",
        "\n",
        "# Define your data directory\n",
        "data_directory = \"/Users/snigdhaasthana/Desktop/hackathon\"\n",
        "\n",
        "# Preprocess data\n",
        "features, labels = preprocess_data(data_directory)\n",
        "\n",
        "# Train the model\n",
        "trained_model, label_encoder = train_model(features, labels)\n",
        "\n",
        "# Real-time inference\n",
        "real_time_inference(trained_model, label_encoder)"
      ],
      "metadata": {
        "id": "eUtey7lbg8Cy"
      },
      "execution_count": null,
      "outputs": []
    }
  ]
}